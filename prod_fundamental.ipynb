{
 "cells": [
  {
   "cell_type": "code",
   "execution_count": 1,
   "metadata": {},
   "outputs": [],
   "source": [
    "import pandas as pd\n",
    "import warnings\n",
    "\n",
    "from model_tool.fundamental._fundamental_preproc import (\n",
    "    FundamentalPreproc,\n",
    "    Fundamental2PivotTb,\n",
    "    PivotTbController,\n",
    ")\n",
    "from model_tool.fundamental._ohlcv_preproc import OhlcvPreproc, OhlcvRoller\n",
    "from model_tool.fundamental._model import ReprtDfCoefModel\n",
    "\n",
    "warnings.filterwarnings(action=\"ignore\")"
   ]
  },
  {
   "cell_type": "code",
   "execution_count": 2,
   "metadata": {},
   "outputs": [],
   "source": [
    "fundamental_raw_df = pd.read_csv(\n",
    "    \"./data/dart/ofs_fundamental_df.csv\", index_col=0\n",
    ")"
   ]
  },
  {
   "cell_type": "code",
   "execution_count": 3,
   "metadata": {},
   "outputs": [],
   "source": [
    "fundamental_preproc = FundamentalPreproc(fundamental_raw_df)\n",
    "fundamental_df = fundamental_preproc()"
   ]
  },
  {
   "cell_type": "code",
   "execution_count": 4,
   "metadata": {},
   "outputs": [],
   "source": [
    "fundamental2pivot_tb = Fundamental2PivotTb(fundamental_df)\n",
    "pivot_tb = fundamental2pivot_tb()"
   ]
  },
  {
   "cell_type": "code",
   "execution_count": 5,
   "metadata": {},
   "outputs": [],
   "source": [
    "pivot_tb_controller = PivotTbController(pivot_tb)\n",
    "latest_n_reprt_df = pivot_tb_controller.get_latest_n_reprt(\"11011\", 3)"
   ]
  },
  {
   "cell_type": "code",
   "execution_count": 6,
   "metadata": {},
   "outputs": [],
   "source": [
    "reprt_df_coef_model = ReprtDfCoefModel(latest_n_reprt_df)\n",
    "reprt_coef_df = reprt_df_coef_model.get_coef_df(\n",
    "    columns=[\"당기순이익\", \"영업이익\", \"유동자산\"]\n",
    ")"
   ]
  },
  {
   "cell_type": "code",
   "execution_count": 7,
   "metadata": {},
   "outputs": [
    {
     "data": {
      "text/html": [
       "<div>\n",
       "<style scoped>\n",
       "    .dataframe tbody tr th:only-of-type {\n",
       "        vertical-align: middle;\n",
       "    }\n",
       "\n",
       "    .dataframe tbody tr th {\n",
       "        vertical-align: top;\n",
       "    }\n",
       "\n",
       "    .dataframe thead th {\n",
       "        text-align: right;\n",
       "    }\n",
       "</style>\n",
       "<table border=\"1\" class=\"dataframe\">\n",
       "  <thead>\n",
       "    <tr style=\"text-align: right;\">\n",
       "      <th></th>\n",
       "      <th>당기순이익</th>\n",
       "      <th>영업이익</th>\n",
       "      <th>유동자산</th>\n",
       "    </tr>\n",
       "    <tr>\n",
       "      <th>stock_code</th>\n",
       "      <th></th>\n",
       "      <th></th>\n",
       "      <th></th>\n",
       "    </tr>\n",
       "  </thead>\n",
       "  <tbody>\n",
       "    <tr>\n",
       "      <th>000020</th>\n",
       "      <td>5.715933e+09</td>\n",
       "      <td>-8.499164e+08</td>\n",
       "      <td>-1.489449e+10</td>\n",
       "    </tr>\n",
       "    <tr>\n",
       "      <th>000040</th>\n",
       "      <td>-4.111994e+09</td>\n",
       "      <td>-2.649943e+09</td>\n",
       "      <td>5.570503e+08</td>\n",
       "    </tr>\n",
       "    <tr>\n",
       "      <th>000050</th>\n",
       "      <td>-1.362227e+10</td>\n",
       "      <td>3.562091e+09</td>\n",
       "      <td>4.662656e+09</td>\n",
       "    </tr>\n",
       "    <tr>\n",
       "      <th>000070</th>\n",
       "      <td>-1.904502e+10</td>\n",
       "      <td>-9.032143e+10</td>\n",
       "      <td>4.088643e+10</td>\n",
       "    </tr>\n",
       "    <tr>\n",
       "      <th>000080</th>\n",
       "      <td>-2.560730e+10</td>\n",
       "      <td>-2.433644e+10</td>\n",
       "      <td>-1.577037e+11</td>\n",
       "    </tr>\n",
       "    <tr>\n",
       "      <th>...</th>\n",
       "      <td>...</td>\n",
       "      <td>...</td>\n",
       "      <td>...</td>\n",
       "    </tr>\n",
       "    <tr>\n",
       "      <th>950160</th>\n",
       "      <td>1.409860e+07</td>\n",
       "      <td>1.263844e+07</td>\n",
       "      <td>-5.904424e+06</td>\n",
       "    </tr>\n",
       "    <tr>\n",
       "      <th>950170</th>\n",
       "      <td>3.968722e+09</td>\n",
       "      <td>3.619156e+09</td>\n",
       "      <td>-1.461501e+09</td>\n",
       "    </tr>\n",
       "    <tr>\n",
       "      <th>950190</th>\n",
       "      <td>-8.940570e+07</td>\n",
       "      <td>-1.083197e+08</td>\n",
       "      <td>-3.171536e+08</td>\n",
       "    </tr>\n",
       "    <tr>\n",
       "      <th>950200</th>\n",
       "      <td>1.556210e+06</td>\n",
       "      <td>2.176967e+06</td>\n",
       "      <td>-3.760679e+06</td>\n",
       "    </tr>\n",
       "    <tr>\n",
       "      <th>950220</th>\n",
       "      <td>8.558465e+05</td>\n",
       "      <td>3.515350e+05</td>\n",
       "      <td>-4.280891e+07</td>\n",
       "    </tr>\n",
       "  </tbody>\n",
       "</table>\n",
       "<p>2090 rows × 3 columns</p>\n",
       "</div>"
      ],
      "text/plain": [
       "                   당기순이익          영업이익          유동자산\n",
       "stock_code                                          \n",
       "000020      5.715933e+09 -8.499164e+08 -1.489449e+10\n",
       "000040     -4.111994e+09 -2.649943e+09  5.570503e+08\n",
       "000050     -1.362227e+10  3.562091e+09  4.662656e+09\n",
       "000070     -1.904502e+10 -9.032143e+10  4.088643e+10\n",
       "000080     -2.560730e+10 -2.433644e+10 -1.577037e+11\n",
       "...                  ...           ...           ...\n",
       "950160      1.409860e+07  1.263844e+07 -5.904424e+06\n",
       "950170      3.968722e+09  3.619156e+09 -1.461501e+09\n",
       "950190     -8.940570e+07 -1.083197e+08 -3.171536e+08\n",
       "950200      1.556210e+06  2.176967e+06 -3.760679e+06\n",
       "950220      8.558465e+05  3.515350e+05 -4.280891e+07\n",
       "\n",
       "[2090 rows x 3 columns]"
      ]
     },
     "execution_count": 7,
     "metadata": {},
     "output_type": "execute_result"
    }
   ],
   "source": [
    "reprt_coef_df"
   ]
  },
  {
   "cell_type": "code",
   "execution_count": 8,
   "metadata": {},
   "outputs": [],
   "source": [
    "latest_reprt_df = pivot_tb_controller.get_latest_reprt(\"11011\")"
   ]
  },
  {
   "cell_type": "code",
   "execution_count": 9,
   "metadata": {},
   "outputs": [],
   "source": [
    "kosdaq_ohlcv_df = pd.read_csv(\"./data/fdr/kosdaq_ohlcv_df.csv\", index_col=0)\n",
    "kospi_ohlcv_df = pd.read_csv(\"./data/fdr/kospi_ohlcv_df.csv\", index_col=0)\n",
    "\n",
    "stock_info_df = pd.read_csv(\"./data/fdr/stock_info.csv\", index_col=0)"
   ]
  },
  {
   "cell_type": "code",
   "execution_count": 10,
   "metadata": {},
   "outputs": [],
   "source": [
    "ohlcv_preproc = OhlcvPreproc(kospi_ohlcv_df, kosdaq_ohlcv_df)\n",
    "ohlcv_df = ohlcv_preproc()"
   ]
  },
  {
   "cell_type": "code",
   "execution_count": 11,
   "metadata": {},
   "outputs": [],
   "source": [
    "ohlcv_roller = OhlcvRoller(ohlcv_df)\n",
    "front_rolled_price = ohlcv_roller.front_rolling_mean(30)"
   ]
  },
  {
   "cell_type": "code",
   "execution_count": 12,
   "metadata": {},
   "outputs": [],
   "source": [
    "code_share_dict = stock_info_df.set_index(\"stock_code\")[\n",
    "    \"stock_share\"\n",
    "].to_dict()"
   ]
  },
  {
   "cell_type": "code",
   "execution_count": 13,
   "metadata": {},
   "outputs": [],
   "source": [
    "fundamental_price_df = pd.merge_asof(\n",
    "    left=latest_reprt_df.sort_values(\"reprt_date\"),\n",
    "    right=front_rolled_price.sort_values(\"date\"),\n",
    "    by=\"stock_code\",\n",
    "    left_on=\"reprt_date\",\n",
    "    right_on=\"date\",\n",
    "    direction=\"nearest\",\n",
    ")\n",
    "fundamental_price_df[\"shares\"] = fundamental_price_df[\"stock_code\"].map(\n",
    "    code_share_dict\n",
    ")\n",
    "fp_df = fundamental_price_df.set_index(\"stock_code\")"
   ]
  },
  {
   "cell_type": "code",
   "execution_count": 14,
   "metadata": {},
   "outputs": [],
   "source": [
    "fp_df[\"자본총계\"] = fp_df[\"자산총계\"] - fp_df[\"부채총계\"]\n",
    "fp_df[\"비유동자본\"] = fp_df[\"비유동자산\"] - fp_df[\"비유동부채\"]\n",
    "fp_df[\"유동자본\"] = fp_df[\"유동자산\"] - fp_df[\"유동부채\"]"
   ]
  },
  {
   "cell_type": "code",
   "execution_count": 16,
   "metadata": {},
   "outputs": [],
   "source": [
    "net_per_series = (fp_df[\"price\"] / (fp_df[\"당기순이익\"] / fp_df[\"shares\"])).rename('net_per')\n",
    "operation_per_series = (fp_df[\"price\"] / (fp_df[\"영업이익\"] / fp_df[\"shares\"])).rename(\"operation_per\")\n",
    "raw_pbr_series = (fp_df[\"price\"] / (fp_df[\"자본총계\"] / fp_df[\"shares\"])).rename(\"raw_pbr\")\n",
    "net_pbr_series = (fp_df[\"price\"] / (fp_df[\"유동자본\"] / fp_df[\"shares\"])).rename(\"net_pbr\")"
   ]
  },
  {
   "cell_type": "code",
   "execution_count": 17,
   "metadata": {},
   "outputs": [],
   "source": [
    "fp_main_df=pd.concat(\n",
    "    [net_per_series, operation_per_series, raw_pbr_series, net_pbr_series],\n",
    "    axis=1\n",
    ")"
   ]
  },
  {
   "cell_type": "code",
   "execution_count": 18,
   "metadata": {},
   "outputs": [],
   "source": [
    "stock_code_a = reprt_coef_df[\n",
    "    (reprt_coef_df[\"당기순이익\"] > 0)\n",
    "    & (reprt_coef_df[\"영업이익\"] > 0)\n",
    "    & (reprt_coef_df[\"유동자산\"] > 0)\n",
    "].index"
   ]
  },
  {
   "cell_type": "code",
   "execution_count": 20,
   "metadata": {},
   "outputs": [],
   "source": [
    "stock_code_b = fp_main_df[\n",
    "    (fp_main_df[\"net_per\"] > 0)\n",
    "    & (fp_main_df[\"operation_per\"] > 0)\n",
    "    & (fp_main_df[\"raw_pbr\"] > 0)\n",
    "    & (fp_main_df[\"net_pbr\"] > 0)\n",
    "    & (2 > fp_main_df[\"net_pbr\"])\n",
    "].index"
   ]
  },
  {
   "cell_type": "code",
   "execution_count": 21,
   "metadata": {},
   "outputs": [
    {
     "data": {
      "text/plain": [
       "103"
      ]
     },
     "execution_count": 21,
     "metadata": {},
     "output_type": "execute_result"
    }
   ],
   "source": [
    "len(set(stock_code_a) & set(stock_code_b))"
   ]
  },
  {
   "cell_type": "code",
   "execution_count": 23,
   "metadata": {},
   "outputs": [],
   "source": [
    "fundamental_result=stock_info_df[stock_info_df['stock_code'].isin(set(stock_code_a) & set(stock_code_b))]"
   ]
  },
  {
   "cell_type": "code",
   "execution_count": 24,
   "metadata": {},
   "outputs": [],
   "source": [
    "fundamental_result.to_csv(\"./fundamental_result.csv\")"
   ]
  },
  {
   "cell_type": "code",
   "execution_count": null,
   "metadata": {},
   "outputs": [],
   "source": []
  }
 ],
 "metadata": {
  "kernelspec": {
   "display_name": "quant_trading",
   "language": "python",
   "name": "python3"
  },
  "language_info": {
   "codemirror_mode": {
    "name": "ipython",
    "version": 3
   },
   "file_extension": ".py",
   "mimetype": "text/x-python",
   "name": "python",
   "nbconvert_exporter": "python",
   "pygments_lexer": "ipython3",
   "version": "3.10.13"
  }
 },
 "nbformat": 4,
 "nbformat_minor": 2
}
