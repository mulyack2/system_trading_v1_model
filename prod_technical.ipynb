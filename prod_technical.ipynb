{
 "cells": [
  {
   "cell_type": "code",
   "execution_count": 5,
   "metadata": {},
   "outputs": [],
   "source": [
    "# Load\n",
    "import warnings\n",
    "import pandas as pd\n",
    "\n",
    "warnings.filterwarnings(action=\"ignore\")\n",
    "\n",
    "from model_tool.technical._preproc import OhlcvPreproc\n",
    "from model_tool.technical.highlowbased._preproc import HighLowBasedPositionGenerator\n",
    "from model_tool.technical.pricebased._preproc import PriceBasedPositionGenerator\n",
    "from model_tool.technical._model import PositionLimitModel, PositionRankIndexModel"
   ]
  },
  {
   "cell_type": "code",
   "execution_count": 6,
   "metadata": {},
   "outputs": [],
   "source": [
    "kosdaq_ohlcv_df = pd.read_csv(\"./data/fdr/kosdaq_ohlcv_df.csv\", index_col=0)\n",
    "kospi_ohlcv_df = pd.read_csv(\"./data/fdr/kospi_ohlcv_df.csv\", index_col=0)"
   ]
  },
  {
   "cell_type": "code",
   "execution_count": 7,
   "metadata": {},
   "outputs": [],
   "source": [
    "ohlcv_preproc = OhlcvPreproc(kospi_ohlcv_df, kosdaq_ohlcv_df)\n",
    "ohlcv_df = ohlcv_preproc()"
   ]
  },
  {
   "cell_type": "code",
   "execution_count": 8,
   "metadata": {},
   "outputs": [],
   "source": [
    "pb_pg = PriceBasedPositionGenerator()\n",
    "hlb_pg = HighLowBasedPositionGenerator()\n",
    "\n",
    "pri_model = PositionRankIndexModel()\n",
    "pl_model = PositionLimitModel()"
   ]
  },
  {
   "cell_type": "code",
   "execution_count": 53,
   "metadata": {},
   "outputs": [],
   "source": [
    "fundamental_results = pd.read_csv(\"./fundamental_result.csv\", index_col=0)\n",
    "fundamental_results[\"stock_code\"] = fundamental_results[\"stock_code\"].apply(\n",
    "    lambda x: str(x).zfill(6)\n",
    ")\n",
    "using_stock_codes = sorted(set(fundamental_results[\"stock_code\"]))"
   ]
  },
  {
   "cell_type": "code",
   "execution_count": 23,
   "metadata": {},
   "outputs": [
    {
     "name": "stdout",
     "output_type": "stream",
     "text": [
      "008370\n",
      "012790\n",
      "105740\n"
     ]
    }
   ],
   "source": [
    "analysis_dict = dict()\n",
    "\n",
    "time_size = 60\n",
    "position_size = 100\n",
    "\n",
    "for stock_code in using_stock_codes:\n",
    "    try:\n",
    "        _ohlcv_df = ohlcv_df[ohlcv_df[\"stock_code\"] == stock_code]\n",
    "        pb_tdvp = pb_pg.get_time_dependent_volume_position(\n",
    "            prices=_ohlcv_df[\"close\"],\n",
    "            volumes=_ohlcv_df[\"volume\"],\n",
    "            time_size=time_size,\n",
    "            position_size=position_size,\n",
    "        )\n",
    "        hlb_tdvp = hlb_pg.get_time_dependent_volume_position(\n",
    "            highs=_ohlcv_df[\"high\"],\n",
    "            lows=_ohlcv_df[\"low\"],\n",
    "            volumes=_ohlcv_df[\"volume\"],\n",
    "            time_size=time_size,\n",
    "            position_size=position_size,\n",
    "        )\n",
    "        analysis_dict[stock_code] = {\n",
    "            \"price_based_low_high\": pl_model.calc(pb_tdvp),\n",
    "            \"high_low_based_low_high\": pl_model.calc(hlb_tdvp),\n",
    "            \"price_based_index\": pri_model.calc(\n",
    "                _ohlcv_df[\"close\"].iloc[-1], pb_tdvp\n",
    "            ),\n",
    "            \"high_low_based_index\": pri_model.calc(\n",
    "                _ohlcv_df[\"close\"].iloc[-1], hlb_tdvp\n",
    "            ),\n",
    "        }\n",
    "    except:\n",
    "        print(stock_code)"
   ]
  },
  {
   "cell_type": "code",
   "execution_count": 29,
   "metadata": {},
   "outputs": [],
   "source": [
    "analysis_df = pd.DataFrame(analysis_dict).T"
   ]
  },
  {
   "cell_type": "code",
   "execution_count": 41,
   "metadata": {},
   "outputs": [],
   "source": [
    "latest_price_dict = ohlcv_df.groupby(\"stock_code\").tail(1).set_index(\"stock_code\")['close']"
   ]
  },
  {
   "cell_type": "code",
   "execution_count": 42,
   "metadata": {},
   "outputs": [],
   "source": [
    "analysis_df['price'] = analysis_df.index.map(latest_price_dict)"
   ]
  },
  {
   "cell_type": "code",
   "execution_count": 45,
   "metadata": {},
   "outputs": [],
   "source": [
    "def in_low_high(low_high, price):\n",
    "    low, high = low_high\n",
    "    if (low < price) and (price < high):\n",
    "        return True\n",
    "    else:\n",
    "        return False"
   ]
  },
  {
   "cell_type": "code",
   "execution_count": 49,
   "metadata": {},
   "outputs": [],
   "source": [
    "selected = analysis_df[\n",
    "    (\n",
    "        analysis_df.apply(\n",
    "            lambda x: in_low_high(x[\"price_based_low_high\"], x[\"price\"]),\n",
    "            axis=1,\n",
    "        )\n",
    "    )\n",
    "    & (\n",
    "        analysis_df.apply(\n",
    "            lambda x: in_low_high(x[\"high_low_based_low_high\"], x[\"price\"]),\n",
    "            axis=1,\n",
    "        )\n",
    "    )\n",
    "]"
   ]
  },
  {
   "cell_type": "code",
   "execution_count": 51,
   "metadata": {},
   "outputs": [
    {
     "data": {
      "text/plain": [
       "Index(['000500', '002460', '013700', '015590', '034590', '045100', '053620',\n",
       "       '084870', '250000'],\n",
       "      dtype='object')"
      ]
     },
     "execution_count": 51,
     "metadata": {},
     "output_type": "execute_result"
    }
   ],
   "source": [
    "selected.index"
   ]
  },
  {
   "cell_type": "code",
   "execution_count": 54,
   "metadata": {},
   "outputs": [
    {
     "data": {
      "text/html": [
       "<div>\n",
       "<style scoped>\n",
       "    .dataframe tbody tr th:only-of-type {\n",
       "        vertical-align: middle;\n",
       "    }\n",
       "\n",
       "    .dataframe tbody tr th {\n",
       "        vertical-align: top;\n",
       "    }\n",
       "\n",
       "    .dataframe thead th {\n",
       "        text-align: right;\n",
       "    }\n",
       "</style>\n",
       "<table border=\"1\" class=\"dataframe\">\n",
       "  <thead>\n",
       "    <tr style=\"text-align: right;\">\n",
       "      <th></th>\n",
       "      <th>stock_code</th>\n",
       "      <th>stock_name</th>\n",
       "      <th>stock_share</th>\n",
       "    </tr>\n",
       "  </thead>\n",
       "  <tbody>\n",
       "    <tr>\n",
       "      <th>580</th>\n",
       "      <td>045100</td>\n",
       "      <td>한양이엔지</td>\n",
       "      <td>18000000</td>\n",
       "    </tr>\n",
       "    <tr>\n",
       "      <th>686</th>\n",
       "      <td>000500</td>\n",
       "      <td>가온전선</td>\n",
       "      <td>7357946</td>\n",
       "    </tr>\n",
       "    <tr>\n",
       "      <th>1387</th>\n",
       "      <td>034590</td>\n",
       "      <td>인천도시가스</td>\n",
       "      <td>4374754</td>\n",
       "    </tr>\n",
       "    <tr>\n",
       "      <th>1444</th>\n",
       "      <td>015590</td>\n",
       "      <td>KIB플러그에너지</td>\n",
       "      <td>236981544</td>\n",
       "    </tr>\n",
       "    <tr>\n",
       "      <th>1470</th>\n",
       "      <td>002460</td>\n",
       "      <td>화성산업</td>\n",
       "      <td>10150000</td>\n",
       "    </tr>\n",
       "    <tr>\n",
       "      <th>1777</th>\n",
       "      <td>250000</td>\n",
       "      <td>보라티알</td>\n",
       "      <td>6750733</td>\n",
       "    </tr>\n",
       "    <tr>\n",
       "      <th>1817</th>\n",
       "      <td>013700</td>\n",
       "      <td>까뮤이앤씨</td>\n",
       "      <td>45152280</td>\n",
       "    </tr>\n",
       "    <tr>\n",
       "      <th>1958</th>\n",
       "      <td>053620</td>\n",
       "      <td>태양</td>\n",
       "      <td>8600000</td>\n",
       "    </tr>\n",
       "    <tr>\n",
       "      <th>2318</th>\n",
       "      <td>084870</td>\n",
       "      <td>TBH글로벌</td>\n",
       "      <td>20856819</td>\n",
       "    </tr>\n",
       "  </tbody>\n",
       "</table>\n",
       "</div>"
      ],
      "text/plain": [
       "     stock_code stock_name  stock_share\n",
       "580      045100      한양이엔지     18000000\n",
       "686      000500       가온전선      7357946\n",
       "1387     034590     인천도시가스      4374754\n",
       "1444     015590  KIB플러그에너지    236981544\n",
       "1470     002460       화성산업     10150000\n",
       "1777     250000       보라티알      6750733\n",
       "1817     013700      까뮤이앤씨     45152280\n",
       "1958     053620         태양      8600000\n",
       "2318     084870     TBH글로벌     20856819"
      ]
     },
     "execution_count": 54,
     "metadata": {},
     "output_type": "execute_result"
    }
   ],
   "source": [
    "fundamental_results[fundamental_results[\"stock_code\"].isin(selected.index)]"
   ]
  }
 ],
 "metadata": {
  "kernelspec": {
   "display_name": "quant_trading",
   "language": "python",
   "name": "python3"
  },
  "language_info": {
   "codemirror_mode": {
    "name": "ipython",
    "version": 3
   },
   "file_extension": ".py",
   "mimetype": "text/x-python",
   "name": "python",
   "nbconvert_exporter": "python",
   "pygments_lexer": "ipython3",
   "version": "3.10.13"
  }
 },
 "nbformat": 4,
 "nbformat_minor": 2
}
